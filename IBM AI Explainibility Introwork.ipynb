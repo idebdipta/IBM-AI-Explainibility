{
    "cells": [
        {
            "cell_type": "code",
            "execution_count": 1,
            "metadata": {},
            "outputs": [],
            "source": "import pandas as pd"
        },
        {
            "cell_type": "code",
            "execution_count": 5,
            "metadata": {},
            "outputs": [
                {
                    "data": {
                        "text/plain": "'0.24.1'"
                    },
                    "execution_count": 5,
                    "metadata": {},
                    "output_type": "execute_result"
                }
            ],
            "source": "pd.__version__"
        },
        {
            "cell_type": "code",
            "execution_count": 10,
            "metadata": {},
            "outputs": [],
            "source": "import keras\nfrom keras.layers import Flatten, Dense\nfrom keras.models import Sequential"
        },
        {
            "cell_type": "code",
            "execution_count": 12,
            "metadata": {},
            "outputs": [],
            "source": "model = Sequential ([Flatten (input_shape= (28,28)), \n                    Dense (128, activation = 'relu'),\n                    Dense (10, activation = 'softmax')])"
        },
        {
            "cell_type": "code",
            "execution_count": 15,
            "metadata": {},
            "outputs": [
                {
                    "name": "stdout",
                    "output_type": "stream",
                    "text": "Downloading data from http://fashion-mnist.s3-website.eu-central-1.amazonaws.com/train-labels-idx1-ubyte.gz\n32768/29515 [=================================] - 0s 1us/step\nDownloading data from http://fashion-mnist.s3-website.eu-central-1.amazonaws.com/train-images-idx3-ubyte.gz\n26427392/26421880 [==============================] - 0s 0us/step\nDownloading data from http://fashion-mnist.s3-website.eu-central-1.amazonaws.com/t10k-labels-idx1-ubyte.gz\n8192/5148 [===============================================] - 0s 0us/step\nDownloading data from http://fashion-mnist.s3-website.eu-central-1.amazonaws.com/t10k-images-idx3-ubyte.gz\n4423680/4422102 [==============================] - 0s 0us/step\n"
                }
            ],
            "source": "fashion_mnist = keras.datasets.fashion_mnist\n(train_images, train_labels), (test_images, test_labels) = fashion_mnist.load_data()"
        },
        {
            "cell_type": "code",
            "execution_count": 18,
            "metadata": {},
            "outputs": [],
            "source": "class_names = ['t-shirt', 'trouser', 'pullover', 'dress', 'coat',\n              'sandal', 'shirt', 'sneaker', 'bag', 'ankle_boot']"
        },
        {
            "cell_type": "code",
            "execution_count": 21,
            "metadata": {},
            "outputs": [],
            "source": "train_images = train_images/255\ntest_images = test_images/255"
        },
        {
            "cell_type": "code",
            "execution_count": 25,
            "metadata": {},
            "outputs": [],
            "source": "model.compile(optimizer='adam', loss = 'sparse_categorical_crossentropy',metrics = ['accuracy'])"
        },
        {
            "cell_type": "code",
            "execution_count": 26,
            "metadata": {},
            "outputs": [
                {
                    "name": "stdout",
                    "output_type": "stream",
                    "text": "WARNING:tensorflow:From /opt/conda/envs/Python36/lib/python3.6/site-packages/tensorflow/python/ops/math_ops.py:3066: to_int32 (from tensorflow.python.ops.math_ops) is deprecated and will be removed in a future version.\nInstructions for updating:\nUse tf.cast instead.\nEpoch 1/10\n60000/60000 [==============================] - 25s 418us/step - loss: 1.0953 - acc: 0.6665\nEpoch 2/10\n60000/60000 [==============================] - 24s 405us/step - loss: 0.6439 - acc: 0.7687\nEpoch 3/10\n60000/60000 [==============================] - 25s 422us/step - loss: 0.5686 - acc: 0.7952\nEpoch 4/10\n60000/60000 [==============================] - 23s 390us/step - loss: 0.5266 - acc: 0.8134\nEpoch 5/10\n60000/60000 [==============================] - 23s 390us/step - loss: 0.4983 - acc: 0.8247\nEpoch 6/10\n60000/60000 [==============================] - 24s 392us/step - loss: 0.4786 - acc: 0.8306\nEpoch 7/10\n60000/60000 [==============================] - 23s 391us/step - loss: 0.4629 - acc: 0.8371\nEpoch 8/10\n60000/60000 [==============================] - 24s 403us/step - loss: 0.4508 - acc: 0.8400\nEpoch 9/10\n60000/60000 [==============================] - 24s 392us/step - loss: 0.4408 - acc: 0.8448\nEpoch 10/10\n60000/60000 [==============================] - 24s 399us/step - loss: 0.4324 - acc: 0.8475\n"
                },
                {
                    "data": {
                        "text/plain": "<keras.callbacks.History at 0x7f9ca008d668>"
                    },
                    "execution_count": 26,
                    "metadata": {},
                    "output_type": "execute_result"
                }
            ],
            "source": "model.fit(train_images, train_labels, epochs=10)"
        },
        {
            "cell_type": "code",
            "execution_count": 29,
            "metadata": {},
            "outputs": [
                {
                    "name": "stdout",
                    "output_type": "stream",
                    "text": "\\ Test Accuracy 0.8335\n"
                }
            ],
            "source": "test_loss, test_acc = model.evaluate(test_images, test_labels, verbose=2)\nprint(f'\\ Test Accuracy {test_acc}')"
        }
    ],
    "metadata": {
        "kernelspec": {
            "display_name": "Python 3.6",
            "language": "python",
            "name": "python3"
        },
        "language_info": {
            "codemirror_mode": {
                "name": "ipython",
                "version": 3
            },
            "file_extension": ".py",
            "mimetype": "text/x-python",
            "name": "python",
            "nbconvert_exporter": "python",
            "pygments_lexer": "ipython3",
            "version": "3.6.9"
        }
    },
    "nbformat": 4,
    "nbformat_minor": 1
}